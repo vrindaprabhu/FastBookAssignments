{
 "cells": [
  {
   "cell_type": "markdown",
   "id": "d51938b4",
   "metadata": {},
   "source": [
    "## Premise  \n",
    "\n",
    "Quick overview of the results from the attempted stacked model.  \n",
    "\n",
    "__TL;DR__  \n",
    "- The results are not that promising since there is still amajor contibution of mis-prediction of majority class.\n",
    "- For practical uses there is a problem with high False Negative(?) on Healthy variants. Oops!!"
   ]
  },
  {
   "cell_type": "markdown",
   "id": "d91a9655",
   "metadata": {},
   "source": [
    "## Imports"
   ]
  },
  {
   "cell_type": "code",
   "execution_count": 41,
   "id": "1cc0e75a",
   "metadata": {},
   "outputs": [],
   "source": [
    "import pandas as pd\n",
    "from sklearn.metrics import confusion_matrix\n",
    "\n",
    "import seaborn as sns\n",
    "import matplotlib.pyplot as plt  \n",
    "\n",
    "%matplotlib inline"
   ]
  },
  {
   "cell_type": "markdown",
   "id": "7eac9d14",
   "metadata": {},
   "source": [
    "## Loading the results"
   ]
  },
  {
   "cell_type": "code",
   "execution_count": 42,
   "id": "19280bb7",
   "metadata": {},
   "outputs": [
    {
     "data": {
      "text/html": [
       "<div>\n",
       "<style scoped>\n",
       "    .dataframe tbody tr th:only-of-type {\n",
       "        vertical-align: middle;\n",
       "    }\n",
       "\n",
       "    .dataframe tbody tr th {\n",
       "        vertical-align: top;\n",
       "    }\n",
       "\n",
       "    .dataframe thead th {\n",
       "        text-align: right;\n",
       "    }\n",
       "</style>\n",
       "<table border=\"1\" class=\"dataframe\">\n",
       "  <thead>\n",
       "    <tr style=\"text-align: right;\">\n",
       "      <th></th>\n",
       "      <th>image_id</th>\n",
       "      <th>label</th>\n",
       "      <th>is_val</th>\n",
       "      <th>model3_lab</th>\n",
       "      <th>m3_out</th>\n",
       "      <th>final_output</th>\n",
       "    </tr>\n",
       "  </thead>\n",
       "  <tbody>\n",
       "    <tr>\n",
       "      <th>0</th>\n",
       "      <td>4081341161.jpg</td>\n",
       "      <td>1</td>\n",
       "      <td>True</td>\n",
       "      <td>0</td>\n",
       "      <td>0</td>\n",
       "      <td>1.0</td>\n",
       "    </tr>\n",
       "    <tr>\n",
       "      <th>1</th>\n",
       "      <td>408144068.jpg</td>\n",
       "      <td>3</td>\n",
       "      <td>True</td>\n",
       "      <td>1</td>\n",
       "      <td>1</td>\n",
       "      <td>3.0</td>\n",
       "    </tr>\n",
       "    <tr>\n",
       "      <th>2</th>\n",
       "      <td>4081836555.jpg</td>\n",
       "      <td>3</td>\n",
       "      <td>True</td>\n",
       "      <td>1</td>\n",
       "      <td>1</td>\n",
       "      <td>3.0</td>\n",
       "    </tr>\n",
       "    <tr>\n",
       "      <th>3</th>\n",
       "      <td>4082024517.jpg</td>\n",
       "      <td>3</td>\n",
       "      <td>True</td>\n",
       "      <td>1</td>\n",
       "      <td>0</td>\n",
       "      <td>1.0</td>\n",
       "    </tr>\n",
       "    <tr>\n",
       "      <th>4</th>\n",
       "      <td>4082420465.jpg</td>\n",
       "      <td>4</td>\n",
       "      <td>True</td>\n",
       "      <td>0</td>\n",
       "      <td>0</td>\n",
       "      <td>4.0</td>\n",
       "    </tr>\n",
       "  </tbody>\n",
       "</table>\n",
       "</div>"
      ],
      "text/plain": [
       "         image_id  label  is_val  model3_lab  m3_out  final_output\n",
       "0  4081341161.jpg      1    True           0       0           1.0\n",
       "1   408144068.jpg      3    True           1       1           3.0\n",
       "2  4081836555.jpg      3    True           1       1           3.0\n",
       "3  4082024517.jpg      3    True           1       0           1.0\n",
       "4  4082420465.jpg      4    True           0       0           4.0"
      ]
     },
     "execution_count": 42,
     "metadata": {},
     "output_type": "execute_result"
    }
   ],
   "source": [
    "df = pd.read_csv(\"/Users/vrindaprabhu/Assignments/02_FastAI/FastBook/Homeworks/cassava/cassava_results.csv\")\n",
    "df.head()"
   ]
  },
  {
   "cell_type": "markdown",
   "id": "3d807b8a",
   "metadata": {},
   "source": [
    "## Confusion Matrix  \n",
    "\n",
    "Could not try out the confusion matrix in colab for some reason, just checking it out here."
   ]
  },
  {
   "cell_type": "code",
   "execution_count": 43,
   "id": "e4f002af",
   "metadata": {},
   "outputs": [],
   "source": [
    "y_test = df['label'].values.tolist()\n",
    "y_test = [labels[int(i)] for i in y_test]\n",
    "\n",
    "pred = df['final_output'].values.tolist()\n",
    "pred = [labels[int(i)] for i in pred]\n",
    "\n",
    "labels = ['CBB', 'CBSD', 'CGM', 'CMD', 'Healthy']\n",
    "cm = confusion_matrix(y_test, pred,labels= labels)"
   ]
  },
  {
   "cell_type": "code",
   "execution_count": 63,
   "id": "66a1f01a",
   "metadata": {},
   "outputs": [
    {
     "data": {
      "image/png": "[encoded data removed]",
      "text/plain": [
       "<Figure size 432x288 with 2 Axes>"
      ]
     },
     "metadata": {
      "needs_background": "light"
     },
     "output_type": "display_data"
    }
   ],
   "source": [
    "ax= plt.subplot()\n",
    "\n",
    "sns.heatmap(cm.T, annot=True, fmt=\"g\", linecolor='black', linewidths=1)\n",
    "plt.title(\"Confusion Matrix\")\n",
    "plt.ylabel(\"Actual\")\n",
    "plt.xlabel(\"Predicted\")\n",
    "\n",
    "ax.set_xlabel('Predicted Labels');ax.set_ylabel('True Labels'); \n",
    "ax.xaxis.set_ticklabels(labels); ax.yaxis.set_ticklabels(labels,va='center');\n",
    "\n",
    "ax.set_title('CONFUSION MATRIX', fontsize=14); "
   ]
  },
  {
   "cell_type": "markdown",
   "id": "10a9a458",
   "metadata": {},
   "source": [
    " ## Most Confused?  \n",
    " \n",
    " No where as near to the one implemented in the FastAI library, but I wanted to see this in some way!\n",
    " Also, a little redundant since the Confusion Matrix already gives this info, yet pie's are always welcome.Not."
   ]
  },
  {
   "cell_type": "code",
   "execution_count": 55,
   "id": "f5347786",
   "metadata": {},
   "outputs": [],
   "source": [
    "df['incorrect'] = df['final_output'] != df['label']\n",
    "data = df.groupby(\"label\")[\"incorrect\"].sum()\n",
    "data.index = labels"
   ]
  },
  {
   "cell_type": "code",
   "execution_count": 64,
   "id": "f8268bb3",
   "metadata": {},
   "outputs": [
    {
     "data": {
      "image/png": "[encoded data removed]",
      "text/plain": [
       "<Figure size 720x432 with 1 Axes>"
      ]
     },
     "metadata": {},
     "output_type": "display_data"
    }
   ],
   "source": [
    "pie, ax = plt.subplots(figsize=[10,6])\n",
    "labels = data.keys()\n",
    "plt.pie(x=data, autopct=\"%.1f%%\", explode=[0.05]*len(labels), labels=labels, pctdistance=0.5)\n",
    "plt.title(\"LABELS HAVING MOST WRONG CLASSIFICATIONS\", fontsize=14);"
   ]
  },
  {
   "cell_type": "code",
   "execution_count": null,
   "id": "5693072c",
   "metadata": {},
   "outputs": [],
   "source": []
  }
 ],
 "metadata": {
  "kernelspec": {
   "display_name": "Python 3",
   "language": "python",
   "name": "python3"
  },
  "language_info": {
   "codemirror_mode": {
    "name": "ipython",
    "version": 3
   },
   "file_extension": ".py",
   "mimetype": "text/x-python",
   "name": "python",
   "nbconvert_exporter": "python",
   "pygments_lexer": "ipython3",
   "version": "3.6.10"
  }
 },
 "nbformat": 4,
 "nbformat_minor": 5
}
