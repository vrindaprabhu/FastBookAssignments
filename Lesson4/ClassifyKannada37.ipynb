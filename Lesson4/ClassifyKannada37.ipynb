{
  "nbformat": 4,
  "nbformat_minor": 0,
  "metadata": {
    "colab": {
      "name": "ClassifyKannada37.ipynb",
      "provenance": [],
      "collapsed_sections": []
    },
    "kernelspec": {
      "name": "python3",
      "display_name": "Python 3"
    },
    "language_info": {
      "name": "python"
    },
    "accelerator": "GPU"
  },
  "cells": [
    {
      "cell_type": "markdown",
      "metadata": {
        "id": "7VkRizp3glou"
      },
      "source": [
        "# **SETUP AND INSTALLATIONS**"
      ]
    },
    {
      "cell_type": "code",
      "metadata": {
        "colab": {
          "base_uri": "https://localhost:8080/"
        },
        "id": "Pcm39HLcG5WH",
        "outputId": "5b87c250-2d73-44a3-84a4-7f735ffb0615"
      },
      "source": [
        "from google.colab import drive\n",
        "drive.mount(\"/content/MyDrive\")"
      ],
      "execution_count": 1,
      "outputs": [
        {
          "output_type": "stream",
          "text": [
            "Drive already mounted at /content/MyDrive; to attempt to forcibly remount, call drive.mount(\"/content/MyDrive\", force_remount=True).\n"
          ],
          "name": "stdout"
        }
      ]
    },
    {
      "cell_type": "code",
      "metadata": {
        "id": "S_lYwPrnHBEb"
      },
      "source": [
        "!pip install -q fastbook"
      ],
      "execution_count": 2,
      "outputs": []
    },
    {
      "cell_type": "markdown",
      "metadata": {
        "id": "hkbuoyzvgxdC"
      },
      "source": [
        "In the notebook, we have three 'algorithms' in the ring -\n",
        "\n",
        "* Average Baseline\n",
        "* RandomForest\n",
        "* ResNet-18\n",
        "\n",
        "All of them are aiming for the top spot at the simple task of classifying 3 and 7. Of course, it is not MNIST but Kannada MNIST."
      ]
    },
    {
      "cell_type": "markdown",
      "metadata": {
        "id": "uM3vCr5lvwDs"
      },
      "source": [
        ""
      ]
    },
    {
      "cell_type": "markdown",
      "metadata": {
        "id": "cpqGvyCzhvBO"
      },
      "source": [
        "# **PREMISE**\n",
        "This notebook explores the performance of baseline, random forest and resnet on the 3s vs 7s. \n",
        "\n",
        "![](data:image/png;base64,iVBORw0KGgoAAAANSUhEUgAAAL4AAADSCAYAAAD0Qnq8AAAgAElEQVR4Ae3d+Z+cxXUu8PwVTE/39KyaGY0kEEZIgyRAaAeDJHYQEgKH4P16B+PYxmuc5MYmBjteEjvLjX29kGuc+Nq+/13dz7deFUza09Pd79aL3h/m09Pdb3fXW/XUqVPPec6pP2vNzYXmr+mDWw0Df3ar3XBzv80kh4EG+M2Kd0uu+A3wG+A3wG/cgMYNuFUw0Fj8xuI3Fv9Wme3NfTYrW2PxG4vfWPzGEjaW8FbBQGPxG4vfWPxbZbY399msbI3Fbyx+Y/EbS9hYwlsFA43Fbyx+Y/Fvldne3GezsjUWv7H4jcVvLGFjCW8VDDQWv7H4jcW/VWZ7c5/NynbLWfz51lzotObCwvxc6M7PhaX2XFjutMJqpxX2LbTCRtffXNi/OBe2/C1lj55n72XXrS204ud8h++bb1aOqVo5bingAz3AA/u+hQzcty/PhfettcKx9VY4uTkfHtiaD+cPzof33z4fHrmjHS4dbsfHhw55vR3fv3f/fLhnoxU/Z3KsdjLwNyvJ9KwkMwn89k2Ar3RaYbM7F4D7yFornNiYD6e35sPFQ/Ph4Tva4dE72+GpI+1w9Wgn3NheCC8d74YPn+yG/3FfN3zmgW743OnF8OqZpfj46VOL8XXv/8XxbnhxuxOeO9oJj93ZDibF6a1WuHdzPv7G0fVWuHO1FQ4uZauEFcWq0EyMyemDmQQ+q77ebYW71lrhwsH58OyRdvjYyW740tml8HcPr4S3Lq+G719ZCz94dC388NG18OPH1sI/Pr4v/NPj+8JPn9gX/uXJ9fBvT66H//XUe3//+uR6+Jcnsvd/8vi+eL3P+Q7f951HVsNfP7gSXj+/FD7zwGJ46Z6F8Pj72uH0gfk4CYC/AX4D/FJAwK9m3RfbLOtcuGO5Fe7e1wr37eeqtKNF/sR93fDV88vh+5dXw8+eXg//dX1/+H8vbJX698cbW+H3z2+Fd67tD794diNOChPsi2eXwkdOdsMzd3fChUPZamDlObQ0F9YXWrHd2t9MiPr7YKotPtDYXHIp+OVcD0D/yvnl8MYjq9GSs9L/+5mN8B/PbUbQ/+FG+cA3kYDfd//u+f3hN9c2w6+ubsaJ9s9P7IuryhuPrMR2ffRkNzx5Vyfctzkf223SNsCvvw+mEvhcGRaeH826cyk+fm83fOPicnQ9AL0Ky553pTAh/u/z+8MvnlkPb11ajS7Xy8cX4v7g1P5sk4w1sidp9gL1TIKpBD7Q20zeONYJXz67FN68tBp9c27G/6nYsucB/x9fuLkaXN8f3r66EVcC+4S/v7QaXj+3FD54YiGySEf2tSL4mxWgevBPBfBZeBw73/jovlYEyYdPdMO3Li6Hf39qPfzu+v7oZuQB5Tg/85/XN2P7uUGffWAxPHt3O9y/vxVZKHEC993sAaqZBFMBfKDHsT91VyegFf/2oZXwj4/tC798diMAD1eCVR0niPP8tnZr/6+vbkQWyQrw2dOLcTMsTrDezeIOzQpQPvgnGvg2fjauD2y1Im/OLQB4G9XfP1/NJjUPgMv6jE0xivQr55fCi/cshAcPzUeWimvH+jcToLw+mGjgA70AETfgzcur4efPbETGBOixKGUBblK+5/c3MkbIfYor/NWDK+Gl4wvh7MH5uJlvgD+jwMfLYzXoZg6vtGJ09fNnFsOPHl2Lm9ZJAWhd7fjl1Y3wP9+/Ej56b/fdzS+JRMP+FJ8AE2XxgZ6Oxgb2+WMLcckXTcXUzKJrM2gCiQkAP/fuWw+uRMqWfqhhf2YE+CkQhcump3n27k7k5MkGbP4GAWTW3xcDEBAjs3jl9GJ4+kgnHN/IVKSN759vEkyExRd9BfozB+ajVfv2I6uR5kuMzawDe9D9pQCYTT39EFaLFkgsw8a38f1H74OxAj9pbTYX58LZA/Ph5RML4buX18Kvr27GSOcgQJT9fgo0catYWX+TSJWicf/moZXwF8cXIu9Pgcp4NBNg+D4YK/AzF+e2uGyTAr95eS1y8wlwZQN70PcBuWDYO8/h1jfDr5/bDP8Zg2NbExUniL7/sxsx8ksmTYEK/A3wh++DsQKfVFcSyNNH2lHW+/Zz1Vh6gP7t9c3g+8kauAvkxzaN/3AlkxWjS0VQ/+79K1Fe/LULy+HrF5ejW0Fy7H0+dpIxJwkzuTLVJx/8nWtZMG3QBCvrfb/57YdXA+EbN5G72Fj+4cA/VuBLELFRE5iyka3K0gM9gFpRvnlxObx6ejEmnFw72glXDrdjYgrgnNpqRddBQolIsT8iOL70xYNZRtaTd2Vy5z+/ZyF+xyfv70b5MQCaTMBfFrAHfY/+An75AFSpssaAv7H8g/tgLMDHRNiUkRK/dmYxBmtELQcN9DDv89O5AlwVOh6BIBb7L29q44H98mEphK1IC3IRUKioVKmJu4Em0azrC3NRL3TXGvapFb9DNtcTd7Wjv/3K6aXoe1tFrAgmM38cHQukVQXdrGQm9SfvX4x9emApy1HY7V6a17IxHgvwgf7cwfmYpAEkQC9qOQyw97om25xuRbDRvXz+zFJ4YbsTA2GsuIwsySqAoQ0CQVyDCPo9ksVTYM2EJaNY6cyFtYXsO2zMRZjft9qKebhydk2sD9yzECPOoq8CcPQ4VUWcTSrg/8GVtZj9ZRVzjw3I+/dBrcBPlpMACyMhKilAsxeYh3mPD8/FEOr/0WP7YgzApg8Attfr47tTMrtqDHh2eb3PH+uET51ajC6WSW4VqEpr5Hv9BokHnQ81a5Posjv4awU+l4IUgf4GHQf03JJhwL3XNUD/kyf2ha9dXA43tjtxuVc1gdUjf2Cp65L3JvCTFfO33a/JJ/fWJv7zpxfD9y6vRvDvdU953rOiAD+hGxdSphfwN5b/T/ugVuBHF+dmkEpKYJ7B3fmZROthW75wdilWSwCytQkr92HSLbZvixljViHUrZxcfWBzWnagjutob/PqmcVw7kAmcGsivP8d/LUCX6ogn1s1Apu+nSDO87/v+OuHVmLgy56B/87CD/LZ67aAKVC33J6Lq9DJjfm46kmXNAHQq2VKM5LKk0H40ImFcKaJ8P7JqlcL8JNvL7vIElyU9ouW/upGeOPSaqxxY0PJr64L0JkFz/znPC4Ulw+VK1pNeoDO5ZuXnSvMMCR5g5UwsVd19dMk/04twE++PQ4cWIsGepJcV64qnh3o61zKU4IMNifP5jEZAu22ClqtsECCZsCfZ/Xb7TPJFbTCKp51+1JG3U4yIOtqWy3AL8u3T7SdgM2HTnYjYHx3XZ0l0gyoVhgbdBJhkeei+niplehWUmyb/p89XW6VCHsJAa5G2vAeVmoBflm+Pa76rZuBGiwJ0Ndl6bE1uHqW+asXlsN3L62Gr19YDk8d6cT0QODPOwHdA/BzRxSf+uK55Qj+3ax4ntdUdlCJQnErWv5+gbq87Z/Gz1UK/OgLz89FayaYlNe3T6pJpf3Us7x0RztWMq66w9Om1IZZ8OvJI524mab34UawzEAKrGXo400eleBMJtIKm15yC/efB/DpM8nlkcxilWoiu3OhUuAvzs+FA4tzMZBENpDXtxegopJkZckDbAztG6oGvonLGh/b14rMEQYG2AFJmxSt8lwgrgx9PN8f+FllRbIUrDXZ/3CjmDpUW7VZLR/BrboMR9XjU+T7KwX+WqcV7lnPKiTglZMFGvWR1QMAXD1fGBirXK6TREF9S+1XmtDE7ZcngD3hmwM/y1/U54+q1dVW3JC+fn45/PSJ9aj3AeAi1l9wS/CMsA7DZnxMtiIAmtbPVgp8kUsltNXCoY4cFfDpekwHxkM5b5HQKkFvIBPrQp2Ja6f74d7YXANfald6TK4Ey8/t4a4U8fn9fgI/14T4jIQ6yw34099P7Rj0mCK75NfXj3bipAb+aQVvkXZXCnwBJWDNS9Ml395qQdtz3/5WoJAscsN7fTZZeopNK8uL2wtR9TisiI4a9LUzS9FSH1rOZBK+c6/f3Os9VKnvofmhLqX45C4OAvig97lnXzq3lEkalm/N01wqBT5fVWkMTAxGZtCA9L6f/GhuBq050FfJ4rC05A4KuVqlBJVICkRCh3ExklTABvzeTWXAbyukEUqBMqwYqcMrDyzGDW9vP4363ORBNNhDcM38TpEJutfkndT3KgG+TtSZQvNqxOcNyds8cnP4uaovVN2JpMZ09k47AXq/v5tr0w9orgUqrhFBGo6fy1K03aQOqFQlFG2w++01+rWr93Xt5DZ959JqeORwO2wuZvLsou2cps9XAvxoqeZviyF5A5VXhBU3Y1fWwsfuzfjnqjuWZf3AdiduVH/xzMbIiebJNSM9NuHLUkdGn7+dlV5RLDdttHsBPezz1E6uE/l2FhMpPkGrHp8yv78S4Evu4CdbnlnOYQek97q0qX32aCdSmGXe+G7fZeNMP6/OPvAm2rK3XYOe/4Y0+NEsKcRega/OGOz2m6O8JulFxhd1J+nxqCtSb7tt2N3rtWML4Y6VBviFB0jAhx6eNr4IjYkJwmg4RsegjwKSPNcmTRE5gmBPClT1AmbQc+wJ8LPMvqushJBoUG4yZY43Knq0UfL1XzmzFKPGefpsWj9TicVX3lritmXUJmoQUPq9b9KQMQvlm0x1dTKXByfPTcPR84mH2dz23od755qc2m9jXl77U/u+/fBK+FWBDLYkX3afD9VAHtQ1fsP8TiXAp6GRSG5JFnjqBcSwz50oKIJ5YLEVRIGHuaEyrkmBtxvHFmIea16Xh6vGMj97pFxXTf9Kli9qWExm4BcjqIMuLmNsyvqOSoAvcIV+dOwlX3lYoPdeJ8ooALZyswpCWTc96HvSZtKZuLTy+Pk8iSKqK0g0R42iDcuKOHN5VE3G75Mco1wF13r7b9jnJqgD8545kslBBvXPLLxfCfCJoK7c2Q5KfAPNsAOw8zqlOGhz1LsBxDp5Zr/lN9GRLxzrxCOHuDw72zfM/3x94JcMIvnbaeplxCFslIHfPsph01wV4B+mTbtdE+MPj+2LE1Sl6lkA9qB7qAT4oo2UjKKDooS7dfZer/GpWTBFmu7fXz1/36+TuBSKSfHTuQP9JAt73Yv3MDBX7+5ELr4MXj+1F//+4KF2rOJQRBLivt6+uhlXD6wRiXQZEzS1cxIfKwF+UalCspRq0qADx9VxBh/4uVtEaMCRx6WQCELzc+5gu9QUSYEtG11l1U2uQROw3/vJ0HDLVIijUQL+cfV7Hb9bCfDx4Te2FyIlmMdFAC5LN42PQaijI/b6DQpNucL2K3l8fe4eZSlqU7riXr81ynvcsdXOXMys4k4NqynqNwH+m4anxHaOck91XVsJ8IXXnd2kzn0e3zOpHW246pAqDOpsmiMWWzBONLkfcPq9HtmdC8vRMsslGPR7w76f9iI2zogEVh/4+7Vj0Ov2I5g0aYoUpsO2Yxqvqwz46LFvP5KPZ2bx6VG+fjFzderc2O42iNwJpxCyqnlWMJ/hKr2wvRBdk91+o8hrXEs5A6Kwgm6DAN7v/WRwpFTa25QVcS5yb1V9thLgR6Bsd3IDJfmcIp/46nbrtlpZnd7OtlmXDvjlc8uxTGE/4PR73SQmXFMVAlPU+/1Fn6vWYP/w8YJxE/0O/Eqii5+UFXEuen9VfL4S4PPxJTrIGy1igfD4aECbOP5sFR0wzHeiZxWCJeOlNO0H8H6vcyHU1a/KhcAUMTaSYPRZ3oBbaj/xmsg1N1MpxGH6aNquqQT4/FhMg2oE/NvUoaM+vhe5nas1cts7iIJF8lQdvJYH+L+9thn+mf799GIlmhhGAfjFPLgpXCvgH7W/0/U28fYMZAyzWm+/EuBbIkly8/L4aQBw59ePSeXLSnP3ArKu50WBjwkCpi+cWYzpflW124bUqmJ1scqkfhz18b3N+OxGcisBfozcHha5zcL9o3Z8up7IS+1HidFVphwOAuJ795MvEp1OZJGWiBod9Ht537fSkh1gw4qstGr525Poe2VV8rZnkj9XCfBJiPnm6sIXiSj+21Pr4bOnF6MmhdUdV0cClCOLvnJ+KdfmlvxXGXMpiWQGVd2HYJtyhKjXItWouWY+r6Q5ZWxV7R3n91YCfJoUOacoTbVckgUf9dHG2AFsqDqU3bg6Slwi0rMP54tL1MWPp4JUkmm4iaP2d7o+yZXlJIwzcl7leFcC/BRKt+wKg6cOHfUxAYa6UXFYG7hxsDuEW9qQN0CU6MyqXYeUqCLzDbuDnsyTR5ClJm7FM4dpd2axynIlwAdO1ofGRYHXvIeeJc0OPh+PzvKWKfIa1qKg9ciT+c3S/UadwKo7/+37V2LdTbTjsL876nVJtYndUeOnSB0e4LdJljSPnq6jct2o91vk+kqAL9JqECgrRSz5jKzPqIBJ19snsLgP3d4O+xerA05vR7Kg6LxLh7NzeN+5NlrVhdT+d1mSmnKHTVT7EQnzDqxO7Rj1kZv6cg31jHr7vY7nlQBfw4HfIW/EWXnFXWmg1OT57uW1mHFUJ8uwM6EGD5/XdcD9v3p6KU6grRrEX1wzxIKEd7m/qR9HfdTuzz2wGAvNjpNcqGIiVAZ8jQVSfq2EEpLeUTs+XS8YY6NLpsx/xbJUufSSI6uxo3Kb9ElnyOYpiJXan2jZsnNv+wGCO0VeHE+VLKDd0eei784GHie50O8+i7xeKfAFshRB+vK5fDRgAk7SkHB5LOGiwsBf5Mb3+mwqLIUdUWcS6PPo8FP7+cr2KLcv1+MrvxtAPCsRaHSJRWp3qmukGh6F6l59Nm3vVQp8QSfBJ+Is+o+8rkIaiBT6N5FsnJUgZ/nLUm+mxJOTm60YMS4aCHK/orYyyS4caheuojwsuPD57yb7F6hyoe3cHXU7SZ/L6udh76PK6yoFfgKSir8igUXFU4AE/Djqz5zqhst3ZOc6YZHKGJSUaiiXQB5rXhYnTdQkVQAcCTVltXMQICSnHFufi/nCRfj8NHHJsdUTHbdKdtB9j/J+pcAHRuyOQSfpleGThw5MQEqPluDvX16Noq8n3teOQRZ+LXkuutOE26uUeGpXtz0X1AAiO7aU46ztSTBReXT3qX3pEX+Pin25Ijlyv4FOVRgeu3M+OPKz6EqLkraCdOeLFcHt195xvF4p8N0QkNGgF4l8JiClR/w+8PP5bZxZ1OvHFqImHdfPRwf+fh2a+G4Mi8JXuGp+LDUpf7youjG1M7I5Z5aipJnep197yn493Z/DnU28oiutyaNcjJVkHAHEsvvH91UOfD+SaEFcfBFaMAEqPbJkVhB06TcfXI6JGOpsGiSMDEEYrQl9DIrv6HorUqyiwM6YlWyhKNPr55dioO3fn86XU5vakx6TiwAwN46N7wAGcgNMWNFcXCmX2DT1UK0mVQCx7u+sBfhJwoDh4esTbQFHAkrexyy0nm0gUW+qtpEVOEuX9ZYgTkNPW/6pU93wmQe6cXX4xsWVaAnp/VGNP39mI7z93Ebuqs697efbSzDHQJlg4zpyJwtkFdfnWwVj5eflfOf61g3qYX6vFuBbHoGfpaVQtOEqkhTdC7Te55Z27gpXCLD9Hs2QR+4H37sIPdn7e73PJdhzMbh3VaQaDjOwrhFA5AbmrQSX7osxcbLNuCQjw97vKNfVAnx+PvDbRMYUvpyZTGkgBj1aTYCfDt7qYpIRvHlkjYG+jBWnXztMuE/dvxil2XVUee434Nw8WV/cS2xYv/YOel3xXuViuIx1Fu/td19lvF4L8FNDCddEc2nbU9m7Ki3voAEt+333wtqj/7gGmCYrXbr/uh8dU4r2LbrCxhzc492ZKjRVK/BZfeDne6INBXby1N0pG7BlfZ97MaFfPtGNAR+gHycLIhXR+QJ89CKpiNxFJMADW06Tn40Ibq3ATxYPO3Dh4Hw8Yl4pi6p97rKA3e97Er36vSuZkK7sUoGp30Z9PLLWCh892Y3a/DyFsNL9Ig1olnD5gnyjtmMSrx8L8GPCxM2CrAbGRhD4U0dP2yNQofywR1gcVnGvOEJdQLCx/uDxhfD3sX/zV7tAF7s3NPGsVF0YC/DTwKcznYAfzVlW4KiuiZMsPVoUMGzc6wxUpX7s92iPEU92ef9K+FUBlSZWSOEAXP4k3V+/+x7m9bECP1r+xexcWdSfQw7KkArUBXyWXorfp091o+sGFMruDdPxdVwTi/ceK96v4hyEgWWd4ljHvQ/6jbECPzWO36hUIA05RgTXbjNWNe2Yd4KkOAG5xCfv705sokaqqanIlGysvPdLrKdytRr/s6LLnwjg84eBn/RVGTyl+rgPk7rptSqRAnAjTFjZSZMYyk9lUeQLs9p5ge9+VVzA5VtFksGa5seJAH7qwFQe49LhTvjEfYtRJYlDRhOOk+9PvrykDsEcVYlpcMZd6Cr1W79HtfipVx02XSQhRf+jnh07JHrb7/em6fWJAn7i+beWWrE+OxYBjYb1GSffn3x54f8XtzsxIosqlGgzCexNP8BJ1JGzIN+X+5jX4ksb5dbh8uvMee53X2W8PlHA772hxPrQs8v9FIiR+Y9lsPxG1eHz+WrH7AaCpKoEdKI30gM6FZtu1cmcaEIGwC2bZMCnfnyv5mcx4KeJ/7GT3WDCp++f5seJBn5ifUQgacuxCspdoNZsgoXiDcofbmzlKpzUC/6kqiQnVsFN1PPq3e1w8eB8BDzXgVYF6GneJ33gtddkVemCsei932GfU65KRkE7N8Cfq2/gowvUnguHllpR4YlP/sB2J3LnVgLLsM2wicAHtyoQZrHY6m8adNlf/vwvIOM910T15uP74uf5sSo8s+7KFsrIEgRam9IEjHSghXyDIpvbWSwiO9EWP1nUpO7Eka8vtGIQRXCGWpDU+cKh+fDEXe1YBoMPLibAOrHYis6+dnYpAhqoVSz+LH3+/YvhY/d2o2bohe1OtIwXDmZpjNIQ0XZcrVS2UBtSe6bl8V06s+ABHSrBKVWCbtbv03L/e7VzKoC/1w3IrVVpwbJuGZZ1pWDt6QPz0WI7/fvRO9vRTeIq+d9rqjmTF0iiNoG2FjMl5ThFZXvdZ573gNS5W39dMIc40bfKrTR05gRZQGC1GqBDZTup1mwDymLb4ImoqjXjz/9e855rMDP8dvsJ3zONlr3fpEA9xlzngqxYLIF4fjnGWKqsZ9TvPqp4feotfhWdMivfiXpEQX738mpMrRx2M9t7nRiAWAB30so6C/3TAH+CVq6yAYUNEwf5h0fznc+bJkCsFnF68kR4RfqrAf4MA19VCarRohlYWDBCvEaWPMNgKWJFJu2zgm2fP7MYj/UpknPrWCArh1iKfdGk3Wee9jQWf4YnMdEfCvfnT68XqmAn1iFVtK5qz3mAPOpnGuDPMPCVbiQnLirySwc+n9yYD/tm5MDnBvgzCPwU8COZVgc070kuaXNrj3DjWFNeZCZ8vFGXxmm6XjyCzMJmlJyD+C7PIXAJ+LGg1N1NQakG+BO+SohkCzQp2UjRmgCc95EOSp3RSUutLGKMGldnwkGcZ3DXFrLaRbQ1/PO8gE+fk1fsIA6R8VmRdDTAn0Hgp7pFn7ivGwvpJgCP+shFUo1akSzFpGZJ0tEAfwaBT1ZQRsoh0NPpvH5uOWB0ZknH1AB/BoGfqTI74W8eykqEj2rp0/Uy3H782L54xrDzBfK4XZP6mQb4Mwh8+QSSaVR3k6GWgDzqY0wyj+XOZyfJPE3EBvgzCPx3D9Z+qtgJL7K2HG6hurVsrgSaWXhsgD+DwHcEkDo4MRm/wMkzqWbmQzNUMzNN2gb4MwR8CfASclSiVou0aBK+3GWJLCbSrEgVGuDPEODTYAJ9OtVc0KlItNZ+wPFJ3BzphoJi6Xdm4XGqLX461lJgRRJ6SjVE54lc3rHSisnRKiXIRvLnf6yHwZSMndIRfZZV813SEKehfEgvAPWB5HslWFjrUTez6XoT5vc39sfMLbIHqZzTUEeotz/2ej7VwE91dwD6/v3vJZerJaMG57VjC+HFexZi6buPnOzGgyiAQkST6EoRVGF95b1VagAa36UGPOu51yHRe3XquN4z4UkLVHwrUjIQ6O0PJKkTugH9tPXFoDGYaOAnlaFlVgIEKw6YEixIblVJUGPn2tFO+OCJhVhOxKmKCihhI9S4VHhKCcK3Lq/FokjfeWQllsr41sXlKNlV/vrVM4tBlNOk8F0mjolgMmFI/CZQsahOQ7caTGIwJx4EcWIhHnda5KANgSuMzpfOLcdCvoNANI3vTzTwhciT4MoxNM/e3YkJEa+cXgpKXwOxqmdks5IlFImSH6polIFTBlBpDCB4+zl//s9e87qopOt8xnE33APfxT9WOcykMYkkYUi0tiKo65nAP2kDLvFEUrj7VxUuuS6jPirR/sNH90VDIm930u6zjPZMFPATK8HX5nurd8OqP32kHS2ypAoyWxXQ3r66Ufio+kGAAB6UHoYEoNTwfOx97Vizx6pjn2BvMG7xFgOhDdgcuprfXi92nCmjQMf/4vbsFJDqnSwTBXx+Nekr+ozvLc9TwVbsAovMQqvcK380HRpRlLnYC/ypiKwVg8/8kyey1QAoJHFfP9YJD94+Hys7A15v59b13G8rpqXsIRlyUf29FUPFOcW3jEdd91Hn74wV+MmHdywmH9oxoDaauGO+d9GQ+16gLvKejR+XyOEQnz61GK4dy+pscjX42QpWpaM+69gLUGMqbKtkInevyL0xJIm/59rNGn+fJtdYgZ98eBW/bCgNnKVax/O96UwcylBkIKv4bGI9uASAxsrGgrNnl+Im+9Id7XcPd3aPqbOrekTL2pTbzNvX5L1noLda2DchDTYXM2q3qnaP83vHAnz0GEuCT1e78pkj7fDamcWJtfCDgJS5RPujO/TGpdVg820jfuZARo9ipKriwdGM9kKfOrUYXcIiBzlzHxEAVrJTW/MzSWOmyTYW4AO9ZfTq0U744rnl8L3La3ETOakWfhDwk6VEA9oP2BBjhr56YTnGDBe38EwAABVGSURBVM5WdDAy0JtQQPpXF5fDf1zdKLRCmjTabeU1mWaNu0+g91gr8GPAqTsXQY8xwNIAiVMEWc1BAJuW97OJsBU34yjRj96bVSEDJipHE7+MFUB/CrbZhH7/cvGk8lgc9sJyXK1mpTjsTrDv/L9W4KdN2IdPZOda6WiUYVEWYhInBPBbAewD5L3au6jLT/tSluhrvcvat4L+/Onj+wprc9DEzgw4e7AdT2ffCZRZ+78W4CdLf3qrFQ9ssBEc52FudU8UG/TfPLcZJ4CIMskEzl1EGAOUNw7w7sEPBc+xZXj49za1pB72Xg7EmDWw77yfWoCfLL1TSt68lIF+nMd31g38P97Yir73O9c2I1vFj/7axeWoHXJIhYypPHEAQTRnAqttWaQ2ZtzUXt2MGn71MdMpMDuBMmv/Vwp8fuxGNxOQEYndapa+3wT7r+ezJO43L6/Fo4pY2SiHGPKgaP263m3FglF0SEUjtSYkV+lzD2Sb2lkD+W73UynwgV5ZCgcDC/sXreHYD0jT9jrXAvjphxxOB7xEco/c0Y6uz24DtfM1oMfk0BA57K7oHilJFJwFxs3Z+Vuz+n8lwE+aGyzGB+4pfgbTtAF71PaaAG9dyaw/8BOGYWsI9HYLgAEnWbX0QqAd9fd6r08phrNU/37QhK0E+DQ3JAhO1U6Dg7Ls7fDm+VbskyxwtBkVpuhPGiWVy3bLfMKtk2R/5XxWOqSMfiW/oDsy4fLsNQaBbBLfrwT4XByqStQYiqwKgKMLAUbQ6xc3pcWkyeQD37uyGt68vBqVnNSc/f5cozyezWaSNpMos6I2i9gYG9Mq2r/bd6ZNJo2SE0gUhTqxkVl/zNhO3l6bd/uOUV7jIvHvUa2sfZUR5kkDfyXAzxIiuoUTIvoNYgoQUWrGU8gvLEeZgGSUp450gqoA5AI47r3+XMOy0gnJ1vrQyW6QyEIRasKKZNapFUq0oslMA+Rs2Y+cXIht5PqQQDt0ugwxmr4FejEGm1qV0myapzHlMs+kKhX4Ok5UUvYSuk6AyiauH4CHfT0D+v4Y7PKdRGwA71TzdAr5pcNZosih5Wy53s037u0g16y0Hf/ZipSiDSMf+8b2QpxI3A4rCB/4V1ezVQA4h2130evSieKfvD+L/LLK3CCb4TLiIFbKb1xYjgI3MYHe/pnl56UCP2lwXjq+EN0HoC8DKL6DLwuAZA4fPL4Q1YP3b80Hpe0M2tbN1ED7C4AeRg6cZNFcCL4ttsQk4FvjyAWZHGos4sodKMqXjzoRuD7AzyrbK/nD4pTFjjEg0i3v2y9Zv3oV6SRNpFKBb0MrRY/w7GdPF2cbkqXHevDBRT3Jb+/fn2U+WWGqFFI5+PnYvlZ4+PZ2eOmehfCFM4sx3REQ3R+XpA5XyAQA9rIAr83azpW6dMd8pFBN/kkCZtVtKRX4QvC4ZZx9kWTnZBlZesfYcDdslC31Mo1YJwNVJeh1vJUD+MkKUIj3brYCrT3JgUTsuhJl9APw+ytjBQV6rqLYgc2zvrxVfPs0oUoBvk5jfYmv5KZySYokO6cQ/6+e3YjgsvmSYXRA2Y8xWiYAscGUKfbkXZ24yeRv24hySYjSygBmmvhVPWaphYsznVqYAN7vsRTgAz2lIIsMCElxmXfgLMUYFTp9/jz9iORzoB+nZfLbwO/EEe0x0U0ASSBvPLISdTjAn/e+6/gcoyKHWfJPFKPNWIW0fkDvfb0U4BM1oTAlljgorOgAWoq5EZ85tRhBT+QGcL2NH/dzebXA8+Ch+ZhyKPGEWyb9L01++5Si/VHW5xEEYhRKsygU1Z2/bayGpOrxQ14wVv56yY5SgC/wgROnviwjYKWiAv8ToFjWSfVB7QGAn/tj4mOBJMrLfeVOlOWTlwV8m2Ps1EvHu1ESvRsgqgZjnd/v/hbnb4t//t/526UAn+9NnvDq6cVYnCnvQPGPuQoirUrhRfdmipZildZUX7t+bCG8fn4pUrrYH4Gicfr+iR1DX4p7nLsFEk2AXM3PkxuZigAxQZKBeUS7lwJ8AH3qrnZ43fHxz+SnMYHe59GWIq44+d6ZunPWTtr/ca+zkLl9pw/Mx2gwTQ36E/jzGoSinzPpSJftv+j/SUq0ddL6r+z2iPF86lQ3VsQzDoJ/6HZap1KAL+Aj0CPhuYha0IbWxstmcZrPXIoR4U4r3oNqCypIoA/1TRmislEngkmnGBY5BsVs2QCbtO9LNDQ5Cmrd/dt30Td96dxSjMmUAnz+Lc190VA6H1SyCj9ZrZ1J69Bh25MiwmIAkraxUsoPqj5cxDCMCvh0PXfLgLN2lvph72Nar9PvIu83jmVkixWPwWFY9YUVuBTgZ4eNZVYNI5M6fNRH2hGMA3ZolrQjKSEn5iY8uBJ5/+T318H62Gh//kzG25uILGIvyzGtIN+t3QKOAo3qG1Hb7obDUoBv+fzs6cXwkyfWY6R1tx8a5jX1Kb90dvYsE38a+PWTCmXKDtpo1sX6KLCLMPjYyW6MPq92dk9w2Q1E0/gaD4QGiQfST0FQCvDvWW/FIqMimL8tUJ561iOKNuvq6pBN87fFKrh3luIqLb+Ygr6lNv3AdifmSog/cAlY/2kE925tRoSgvuUvD1IQlAZ8Aq6iUgWDox49ffws+qKRV25nRaD4oKobSzh/p2Kpg4kF/PYX/FsMh/o+2gD8u4FoGl8DejEVbs4gBUEpwNeBfMiisl1UJv57Fs9V3QmkFPGVNBNZh4qB3+tm6mfVqE28Uao77LyHSfwfP09GghzhSvbe987npQCf76pePOmwEto7f2CU/1mkbz20EhNBUKST2LlltCnRvxJpgLBqV6d3DFK8hFXEbeP2bQjLuLdxfgdCZNiq0aUAX0SMxABPijLq7ehhn/us75Ba5+ypWWEfyKez4FZ2hpeodJI1cEGG7Z+yr4vVHS6vRaMF/GTlXIVU23+cIB7ltxN5cO7gfIyZsPaDAoalAF+HfViVtMurscx03gFKqkwnjkhfnBX2wcAIn8t0kq9gk4lmS0K2vP1V9HNYJeDn9ws+KvpFHzVtqs1EF4uVCBQmqniv/ikF+Drqxe1OPDepjAANl0nwgQs1zZsvK5baOCQd6obK4nrjZr4s0O01MHW+l1SbyjuiWkmthfW5P9pvUz6JvH8iC+Bk1PpNpQD/3ZTDguerpsHm99Lr2OROc7lqoOF3ylOQTPP9y5lsoS7+PvXnoMcU2cT3o6RFz/n+2BHtt2IB2SjuRx3Xvlu/6fDo9ZtKAT5Zsjo6lH+YnUEdPej9dMYUpsjSy/JMoh6/d3CBA0isUqw8RSB/Xo2cHz9qCZ6ODK3k+4s1qO2j9AgDJAHH/fXed93PkyTEwXTnD7Zz4a4U4KdEFPRYGYko6YwpgjVsEcszDawDUMhEQ+86tRHgncXLiioTXjd7M8jA9Hs/+f6MmMyyV04vxvtxuB3w1w303t/jQq51skCVQzfy5HiXAvw04JgBZ0DxGQ1yv44d9nW6H5sV5T1UOrCJNssnadOLsbHkKvjE17RC2e/gyWVjFWG5hu2nqq4zhjaKNr9Ebje2O/GMX3s67E/euv69QB72OcBbTdHBPIw/316Ibhnl5aiq11KAn5Z4SRjS7/I0ZLfBS2UwdDzxGuboyuH5sL2egX/YDqvqukRTcmvIEDA2qfaNfQrQu4fd7m0aXksJLMBP1ei099fOLgZVlU1wFS/qrLUJ9IyLzTdJwg93SL1HNbSlAD8BK1NpdqOVLqLS7AVFCrhgHfj9tP9mvBXAxroO35Nfmfx31p3VMQiqr5H7YkO+U1JZld77T88NLstmE8oN8UeEVdYKm36n36MJQNePbna/V+9uR8m13Al7ALRitwIWyP5On4vKcqeB3r3/rkDEu1TgJ3aHwpLSsl8Hjvq6AQd+A07PoygsaQMLS9ej3IdwdVV1doDequY3gF2Cw/WjWXUFgSjumDxhIKySpgRwdDGlJdYFmcC/LWuFHTQuyfXRBvsW9y36bBJIuHngwHzYWiqfBQJ6zJj7FW2GLUV9tSevuK9U4AMG/henKgJblSUS+BEAMuhfOJOdKaVj/LZVhzXmftgQq9AgF9YyKSLJerDc/EWPnqMdLdlrC9nmFEuls01k/iyLxtr4DfEFA23Abb6B/Q83tnIPwCCweT9t9iXyc6W4fKKUcmc/eKIb28IdxMZUOfF62+q3qEsRGlxc7WKIHAbCQBgHezIrAWzo4539bwzSONgnGR/jpP+NnxVdBB+5oc9NeIWCe9uR53mpwAckN6jaAEvIMgB/nobt9RkzHfiBzgog4GUSUB2q9MAaY1V0mLbYe2BagHj/YjYINsiiqSaHASK7UFVMru/5gxnIuTD8WRKKr19cjkpKv0WFysry4Q1+Xquz1z3ufC/Su4/vC395dilcPpxt8oEDoGjPkQrYL0pP4N/52Sr/Nw7uX/sU81Wm3SrggGjpo1xS7XWKIsNhT6A2Kdd0qfOewVGz1AQxPiYMN1YOtxXdPbPyJj3QlzWxSwV+1b5+v0E0ACYYMNqAscZYFTQcDZHy4S9sL4RnjnRi9TBAYb09slACZSaL0oCOzvQZQFImkD9bl2Xvvb9kUX9wZS3ubWzqWMLUz+nR5HUv3J/MFdiIeRFFXIHetgzzPNsMb8XJh9EyARxOp/yj1NTrRzPXVN/bHCt5jhRQoVq8g7vE0Lhe4QIWnmErO/6hnZUA3+x16DAGQMOH6bQi12QdfnPj99xGnABYFe4Q35slUmUYgIGIVbJP8Mgl8zpLzl1wrc+w6pgMq1Zdlr23D1IOsswpqxDQcwkS4NMj9wH4SYypE1GPfHATB/h7v7fK58bC7+ozfWcMWGvCMX2sv2P/X16NRmrnOHCZjJPrjZ89XdIz+d6y2q1PKgE+P41rYRBYoLp9z7I6aFzfYyPPddB3ViDumr1KAnq/x9TvdP4IBnSf70kbwXHdz6T9LtesEuCnQAMLZPmt2/ectI4etT3A6hwAB7zxjYctoZj6na/MT37xZsmXf30iY0FGbcesXs8LqQT4ySIl39OO3DLWWJ7dl+u0R3n7uYwmxNzwh7FUyILUn8M+mgBC+sfXW+H5owvR+nPxuB5WkzrP9ZqkyZNWUkc9VQr85HvayPA7+W7AP0mdMQltSfy8fAZGwkbv6HrGPmHKhgV8ui6JuNZuhvftD1QdsNnEgYsm34rgt5KiXbnglQI/DQRpq1o56EbgTxuWSQDdONsQAX91I66G33wwSwTBcnBVCP9S/xV9TIkaXCdyb9bfplN0fZolFcOOXWL8FMx9/li2ktYCfIELHC46juamaDWGYW940q/75dWN7GTDe7uR1hOwETgDeu5KUcCnz1s1EuevqjUjpCpGXSe6jHsc0NwobuLBFOWvBfjC/co1CxKZcawOn7/qEP+4O7z39/ny9C6WXNQp18NBeWcPZmfMJqBW9WgyMUImmPiF0xS/ffNQO9TprKzEid5W4wkt6qwv8YGdh9zVAvykddHpoqR8/hRsAf5egMzq8yTxxdgIlukHxkAUNo8vP+oESb6/cSDHSIkyxkLWFfcH+Ke9/xNZIJbx5fNZGRW5BM5OS/1cC/B7B4iWW9SOtoPflfzNcQRcqhzkdJYX3hiFFtWlp6kasyW3LsD39n96nlIjbX7VoiH84/6wkgJQfGMgqrKPyvzutKJqv30MQkVUnt6nN4FmLMDH9gA/uu6ZuztRWiCaZ7kF/jI7Y5zflfIJuHUqxJFFOILHZj9JqbmBCYh1P3J9gN8EVJ2a8I3AMCXR2IMA/zj7cJTftqKKvNNVvXBTuo4oSH29s3/HAvzUgLjp3deKWg2SUxsQFscKwAWaNp+TxYny6ecy+TQpRNKu86lFs0VX0/1P2qOYgYCZyO8nbgrzaJ+AiXxDBD4d2l2mhGAUcO+8Nrk02Ck0rbYyMOhK9VzFMvqRBGMFftpsCXSRE1tyWUUVCYTrp83nBHrLLD7eAGARuHRkzXxqoO83EJMwCfi/wK+wrb2HkiiSzYn8uA3fvZxJICbFBdIOQTnGkoqTZBxrFVfUm31tX7Nb344V+L0NAgwniVPrCbjEzr6UWRw+chKMAdg4fc9o2QmxrmVCLG1jFQEeY6Uw02N3zkeZM41/731Oy3Nu0O1Lc/EkeRJte7LXzy9Ho8R9Q0sbEy5GHePhN3gBSY5O8Eb+bnMu6CdSzcoP078TBXzWEPitAHTmtPFP3pVZHLyzCmTcB3Qg8O9c9ur833KvDT96LEvDe+3MUgSFjRQr+V5K5HsswjCDMWnXGA/gx4ZYsdwXHhwbxboqAsCVG6ZkXxnjA/Qmm4IGjleyohLwWZ20by/XprdvJwr4vY2LrMOKkwRb4dE752NtdwkOrA76zRJH6ir/ko8nUMEC2SSzCnxS7ARWhVXScSaMXE1//vea91zjWnoZn/c93BbuFpmyXNMkq+WGiUJry4vbC1GCLesoRlx3kQ333te0P48r83qWAAN86u+YACTGDJMYhTGxEhoT/ZnGQl/j1/V9+ktjYAXt7X+UJKmyscbHc2m4XmTvEofyrqgTDfydFidl6KQ0QOpD2T2yfGyMdYhlzzlTKFJW4a3Lmd4eYLkirAUwO3LIn/+95r0EahskwBZcwgEb1I/f1w0vn+jGUwxtUi8eakftu7YAe0qvm7Ziq3knYFqZRZndv027pHsJJlY9h09wP1hlUgz9+daVLO8hToqbuQ5WTX/JVfzRY2vhrStZ/xtH7JLsN8EnJ8nw3604vAF9DvSJlx/1XiYa+P1uBgWIEhWGBz6TgI9nN6+T1KiUiyoNUTYV4ZfzkOTn2jfgq/niOtZr3nONweKf47SdVYvdeORwO+a2kljbgEudw0YZ/H7tu9Ve3xkYU21BsAhRwSrrR0ZD4ScgltmmUobsNiu3sfhizJZbiiuo6/T/je2FmD7KlTGxjLUxL4v+nUrgp0iw2W7ZxUPz8ezmWSB/rAJ9EP/P5NB5KC6Dwmr487/XvOca1/JjcdoxYX15LmztkiwN9P3YglsN9Ol+E/i5p3hzY8Iq68c4Fjf7V06t/u4dhzQGjMu7/b+UFQswxsYa6Mvq96kEfurs5rFZdfJioAF+H543b4c2n5uOydgAvwH+LblXaYDfAL8BfrNMT8cy3YxT8XFqLH5j8RuL31iS4pak6cPp6MPG4jcWv7H4jbWaDmvVjFPxcWosfmPxG4vfWJLilqTpw+now8biNxa/sfiNtZoOa9WMU/Fxaix+Y/Ebi99YkuKWpOnD6ejDxuI3Fr+x+I21mg5r1YxT8XH6/yPkdDbV9xOYAAAAAElFTkSuQmCC)\n",
        "\n",
        "\n",
        "![](data:image/png;base64,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)\n"
      ]
    },
    {
      "cell_type": "markdown",
      "metadata": {
        "id": "IaTdgCzwuXoU"
      },
      "source": [
        "## **TL;DR** : Random forests FTW!\n",
        "However, the neural network has just been fine tuned for 5 epochs and reaches close performance. So, quite promising. Not a dependable conclusion. ;-)"
      ]
    },
    {
      "cell_type": "markdown",
      "metadata": {
        "id": "R2XvWGVNiHnO"
      },
      "source": [
        "### **Imports**"
      ]
    },
    {
      "cell_type": "code",
      "metadata": {
        "id": "80z6R4cKHeC_"
      },
      "source": [
        "#Pandas and Numpy\n",
        "import numpy as np\n",
        "import pandas as pd\n",
        "\n",
        "#Sklearn\n",
        "from sklearn.model_selection import train_test_split\n",
        "from sklearn.metrics import accuracy_score\n",
        "from sklearn.ensemble import RandomForestClassifier\n",
        "\n",
        "#Fastai\n",
        "from fastai.vision.all import *\n",
        "\n",
        "#Matplotlib\n",
        "import matplotlib.pyplot as plt\n",
        "%matplotlib inline"
      ],
      "execution_count": 3,
      "outputs": []
    },
    {
      "cell_type": "markdown",
      "metadata": {
        "id": "jSybkVFDjFfg"
      },
      "source": [
        "To make sure everyone is working on the same dataset and the results are consistent amongst runs, we seed everything and then split the data at once. \n",
        "\n",
        "Also, not using the test set that is present in the dataset since it is not labelled."
      ]
    },
    {
      "cell_type": "code",
      "metadata": {
        "id": "0UnWGlG1jFNe"
      },
      "source": [
        "def seed_everything(seed):\n",
        "    random.seed(seed)\n",
        "    os.environ['PYTHONHASHSEED'] = str(seed)\n",
        "    np.random.seed(seed)\n",
        "    torch.manual_seed(seed)\n",
        "    torch.cuda.manual_seed(seed)\n",
        "    torch.cuda.manual_seed_all(seed)\n",
        "    torch.backends.cudnn.deterministic = True\n",
        "\n",
        "seed_everything(42)"
      ],
      "execution_count": 4,
      "outputs": []
    },
    {
      "cell_type": "code",
      "metadata": {
        "id": "H-iHtNTCjXZs"
      },
      "source": [
        "train_df = pd.read_csv(\"kannada_mnist/train.csv\")\n",
        "only_37_df = train_df[train_df['label'].isin([3,7])]\n",
        "\n",
        "train_37_df, test_37_df = train_test_split(only_37_df, test_size=0.2, random_state=42)"
      ],
      "execution_count": 5,
      "outputs": []
    },
    {
      "cell_type": "markdown",
      "metadata": {
        "id": "bfuzcQ9OiQ-F"
      },
      "source": [
        "#### **SECTION-1** : The average baseline"
      ]
    },
    {
      "cell_type": "code",
      "metadata": {
        "id": "vp68UZACPP3t",
        "colab": {
          "base_uri": "https://localhost:8080/",
          "height": 245
        },
        "outputId": "4ef8a619-a8c9-44b5-88f0-011e208b4f92"
      },
      "source": [
        "#Calculating means\n",
        "mean3 = (train_37_df[train_37_df['label'] == 3]\n",
        "            .iloc[:,1:]\n",
        "            .mean().values.astype('uint8'))/255\n",
        "mean7 = (train_37_df[train_37_df['label'] == 7]\n",
        "            .iloc[:,1:]\n",
        "            .mean().values.astype('uint8'))/255\n",
        "\n",
        "#Checking the plot\n",
        "im3 = mean3.reshape((28,28))*255           \n",
        "im7 = mean7.reshape((28,28))*255\n",
        "fig, ax = plt.subplots(1,2)\n",
        "ax[0].axis('off');ax[1].axis('off')\n",
        "fig.suptitle('Average of 3 and 7 respectively')\n",
        "ax[0].imshow(im3, cmap=\"gray\"); ax[1].imshow(im7, cmap=\"gray\");"
      ],
      "execution_count": 6,
      "outputs": [
        {
          "output_type": "display_data",
          "data": {
            "image/png": "[encoded data removed]",
            "text/plain": [
              "<Figure size 432x288 with 2 Axes>"
            ]
          },
          "metadata": {
            "tags": [],
            "needs_background": "light"
          }
        }
      ]
    },
    {
      "cell_type": "code",
      "metadata": {
        "colab": {
          "base_uri": "https://localhost:8080/"
        },
        "id": "YVRvzHbGj7ZA",
        "outputId": "b8bc016b-4d66-4fb8-c8d2-6e1d8211b484"
      },
      "source": [
        "threes = test_37_df[test_37_df['label'] == 3].iloc[:,1:].values/255\n",
        "sevens = test_37_df[test_37_df['label'] == 7].iloc[:,1:].values/255\n",
        "\n",
        "mnist_distance = lambda x, y: np.sqrt(np.mean((x-y)**2, axis=1))\n",
        "def is_3(x): return mnist_distance(x,mean3) < mnist_distance(x,mean7)\n",
        "accuracy_3s =      is_3(threes).mean()\n",
        "accuracy_7s = (1 - is_3(sevens)).mean()\n",
        "\n",
        "print(f\"AVERAGE BASELINE accuracy is {(accuracy_3s+accuracy_7s)*100/2:.2f}%\")"
      ],
      "execution_count": 7,
      "outputs": [
        {
          "output_type": "stream",
          "text": [
            "AVERAGE BASELINE accuracy is 91.50%\n"
          ],
          "name": "stdout"
        }
      ]
    },
    {
      "cell_type": "markdown",
      "metadata": {
        "id": "vajTmgNbr1bL"
      },
      "source": [
        "#### **SECTION-2** : RandomForest"
      ]
    },
    {
      "cell_type": "code",
      "metadata": {
        "colab": {
          "base_uri": "https://localhost:8080/"
        },
        "id": "MBcJBgwIsAYv",
        "outputId": "d3c00dff-ecbd-4966-fffe-ae6635c822b8"
      },
      "source": [
        "rf = RandomForestClassifier(n_estimators=100,random_state=42)\n",
        "rf.fit(train_37_df.iloc[:,1:-1],train_37_df.iloc[:,0])"
      ],
      "execution_count": 8,
      "outputs": [
        {
          "output_type": "execute_result",
          "data": {
            "text/plain": [
              "RandomForestClassifier(bootstrap=True, ccp_alpha=0.0, class_weight=None,\n",
              "                       criterion='gini', max_depth=None, max_features='auto',\n",
              "                       max_leaf_nodes=None, max_samples=None,\n",
              "                       min_impurity_decrease=0.0, min_impurity_split=None,\n",
              "                       min_samples_leaf=1, min_samples_split=2,\n",
              "                       min_weight_fraction_leaf=0.0, n_estimators=100,\n",
              "                       n_jobs=None, oob_score=False, random_state=42, verbose=0,\n",
              "                       warm_start=False)"
            ]
          },
          "metadata": {
            "tags": []
          },
          "execution_count": 8
        }
      ]
    },
    {
      "cell_type": "code",
      "metadata": {
        "id": "_w2zbRKIsAS2"
      },
      "source": [
        "predictions = rf.predict(test_37_df.iloc[:,1:-1])\n",
        "actuals = test_37_df.iloc[:,0].values"
      ],
      "execution_count": 9,
      "outputs": []
    },
    {
      "cell_type": "code",
      "metadata": {
        "colab": {
          "base_uri": "https://localhost:8080/"
        },
        "id": "GHnaZaW6sAJP",
        "outputId": "d5960353-05a5-4f28-b0fb-a2d3491f004f"
      },
      "source": [
        "accuracy = accuracy_score(actuals, predictions)\n",
        "print (f\"RANDOM FOREST accuracy is {accuracy*100:.2f}%\")"
      ],
      "execution_count": 10,
      "outputs": [
        {
          "output_type": "stream",
          "text": [
            "RANDOM FOREST accuracy is 98.58%\n"
          ],
          "name": "stdout"
        }
      ]
    },
    {
      "cell_type": "markdown",
      "metadata": {
        "id": "8WnZctDosVm5"
      },
      "source": [
        "#### **SECTION-3** : Resnet-18"
      ]
    },
    {
      "cell_type": "code",
      "metadata": {
        "colab": {
          "base_uri": "https://localhost:8080/"
        },
        "id": "sZ3YSVzweNG8",
        "outputId": "5ab075f9-93b9-40f2-daa5-0fb9407bfdb8"
      },
      "source": [
        "def read_row(x): return x.values\n",
        "def get_img_row(x): return x[1:].reshape(28,28).astype('uint8')\n",
        "def get_label(x): return x[0]\n",
        "\n",
        "dblock = DataBlock(blocks=(ImageBlock, CategoryBlock),\n",
        "                   get_items=read_row,\n",
        "                   get_x=get_img_row,\n",
        "                   get_y=get_label)\n",
        "\n",
        "dls = dblock.dataloaders(train_37_df)\n",
        "xb, yb = dls.one_batch()\n",
        "\n",
        "print (xb.shape, yb.shape)"
      ],
      "execution_count": 11,
      "outputs": [
        {
          "output_type": "stream",
          "text": [
            "torch.Size([64, 1, 28, 28]) torch.Size([64])\n"
          ],
          "name": "stdout"
        }
      ]
    },
    {
      "cell_type": "code",
      "metadata": {
        "colab": {
          "base_uri": "https://localhost:8080/",
          "height": 190
        },
        "id": "jtQAEHpIZJYh",
        "outputId": "96ab4f00-acee-4fe8-f061-e5f2203fe8df"
      },
      "source": [
        "dls.show_batch(max_n=6,nrows=1,cmap=\"gray\")"
      ],
      "execution_count": 12,
      "outputs": [
        {
          "output_type": "display_data",
          "data": {
            "image/png": "[encoded data removed]",
            "text/plain": [
              "<Figure size 1296x216 with 6 Axes>"
            ]
          },
          "metadata": {
            "tags": [],
            "needs_background": "light"
          }
        }
      ]
    },
    {
      "cell_type": "code",
      "metadata": {
        "colab": {
          "base_uri": "https://localhost:8080/",
          "height": 321
        },
        "id": "RQhyO6OUUv2w",
        "outputId": "1572c7d1-46e3-4d98-9eba-bd0127aeee95"
      },
      "source": [
        "learn = cnn_learner(dls, resnet18, metrics=error_rate)\n",
        "learn.fine_tune(5, base_lr=0.001)"
      ],
      "execution_count": 13,
      "outputs": [
        {
          "output_type": "stream",
          "text": [
            "/usr/local/lib/python3.7/dist-packages/torch/nn/functional.py:718: UserWarning: Named tensors and all their associated APIs are an experimental feature and subject to change. Please do not use them for anything important until they are released as stable. (Triggered internally at  /pytorch/c10/core/TensorImpl.h:1156.)\n",
            "  return torch.max_pool2d(input, kernel_size, stride, padding, dilation, ceil_mode)\n"
          ],
          "name": "stderr"
        },
        {
          "output_type": "display_data",
          "data": {
            "text/html": [
              "<table border=\"1\" class=\"dataframe\">\n",
              "  <thead>\n",
              "    <tr style=\"text-align: left;\">\n",
              "      <th>epoch</th>\n",
              "      <th>train_loss</th>\n",
              "      <th>valid_loss</th>\n",
              "      <th>error_rate</th>\n",
              "      <th>time</th>\n",
              "    </tr>\n",
              "  </thead>\n",
              "  <tbody>\n",
              "    <tr>\n",
              "      <td>0</td>\n",
              "      <td>0.890105</td>\n",
              "      <td>0.577663</td>\n",
              "      <td>0.240104</td>\n",
              "      <td>00:12</td>\n",
              "    </tr>\n",
              "  </tbody>\n",
              "</table>"
            ],
            "text/plain": [
              "<IPython.core.display.HTML object>"
            ]
          },
          "metadata": {
            "tags": []
          }
        },
        {
          "output_type": "display_data",
          "data": {
            "text/html": [
              "<table border=\"1\" class=\"dataframe\">\n",
              "  <thead>\n",
              "    <tr style=\"text-align: left;\">\n",
              "      <th>epoch</th>\n",
              "      <th>train_loss</th>\n",
              "      <th>valid_loss</th>\n",
              "      <th>error_rate</th>\n",
              "      <th>time</th>\n",
              "    </tr>\n",
              "  </thead>\n",
              "  <tbody>\n",
              "    <tr>\n",
              "      <td>0</td>\n",
              "      <td>0.471535</td>\n",
              "      <td>0.223593</td>\n",
              "      <td>0.091146</td>\n",
              "      <td>00:13</td>\n",
              "    </tr>\n",
              "    <tr>\n",
              "      <td>1</td>\n",
              "      <td>0.164719</td>\n",
              "      <td>0.081823</td>\n",
              "      <td>0.031250</td>\n",
              "      <td>00:13</td>\n",
              "    </tr>\n",
              "    <tr>\n",
              "      <td>2</td>\n",
              "      <td>0.076662</td>\n",
              "      <td>0.059725</td>\n",
              "      <td>0.021875</td>\n",
              "      <td>00:13</td>\n",
              "    </tr>\n",
              "    <tr>\n",
              "      <td>3</td>\n",
              "      <td>0.044019</td>\n",
              "      <td>0.045784</td>\n",
              "      <td>0.014583</td>\n",
              "      <td>00:13</td>\n",
              "    </tr>\n",
              "    <tr>\n",
              "      <td>4</td>\n",
              "      <td>0.023431</td>\n",
              "      <td>0.049939</td>\n",
              "      <td>0.015625</td>\n",
              "      <td>00:13</td>\n",
              "    </tr>\n",
              "  </tbody>\n",
              "</table>"
            ],
            "text/plain": [
              "<IPython.core.display.HTML object>"
            ]
          },
          "metadata": {
            "tags": []
          }
        }
      ]
    },
    {
      "cell_type": "code",
      "metadata": {
        "colab": {
          "base_uri": "https://localhost:8080/",
          "height": 206
        },
        "id": "-6d4PiWQXPxd",
        "outputId": "5e121bb9-c3bf-4442-cc56-d250faf29ed4"
      },
      "source": [
        "interp = ClassificationInterpretation.from_learner(learn)\n",
        "interp.plot_top_losses(6, nrows=1)"
      ],
      "execution_count": 14,
      "outputs": [
        {
          "output_type": "display_data",
          "data": {
            "text/html": [
              ""
            ],
            "text/plain": [
              "<IPython.core.display.HTML object>"
            ]
          },
          "metadata": {
            "tags": []
          }
        },
        {
          "output_type": "display_data",
          "data": {
            "image/png": "[encoded data removed]",
            "text/plain": [
              "<Figure size 1296x216 with 6 Axes>"
            ]
          },
          "metadata": {
            "tags": [],
            "needs_background": "light"
          }
        }
      ]
    },
    {
      "cell_type": "code",
      "metadata": {
        "colab": {
          "base_uri": "https://localhost:8080/",
          "height": 190
        },
        "id": "WCb3qnCfNMaA",
        "outputId": "9dc5778c-84c0-43c5-867d-a18780cae27e"
      },
      "source": [
        "test_data = test_37_df.values\n",
        "test_dl = learn.dls.test_dl(test_data, with_labels=True)\n",
        "test_dl.show_batch(max_n=6,nrows=1,cmap=\"gray\")"
      ],
      "execution_count": 15,
      "outputs": [
        {
          "output_type": "display_data",
          "data": {
            "image/png": "[encoded data removed]",
            "text/plain": [
              "<Figure size 1296x216 with 6 Axes>"
            ]
          },
          "metadata": {
            "tags": [],
            "needs_background": "light"
          }
        }
      ]
    },
    {
      "cell_type": "code",
      "metadata": {
        "colab": {
          "base_uri": "https://localhost:8080/",
          "height": 17
        },
        "id": "cZ8zLZ85Qvac",
        "outputId": "3ffe53f9-4301-4818-ff63-ad57c763f0ab"
      },
      "source": [
        "pred_tensor, _, preds = learn.get_preds(dl=test_dl, with_decoded=True)"
      ],
      "execution_count": 16,
      "outputs": [
        {
          "output_type": "display_data",
          "data": {
            "text/html": [
              ""
            ],
            "text/plain": [
              "<IPython.core.display.HTML object>"
            ]
          },
          "metadata": {
            "tags": []
          }
        }
      ]
    },
    {
      "cell_type": "code",
      "metadata": {
        "colab": {
          "base_uri": "https://localhost:8080/"
        },
        "id": "BkRpi2XfRhkU",
        "outputId": "993db210-782e-4997-9d61-2251d90974bb"
      },
      "source": [
        "predicted_val = [test_dl.vocab[i] for i in preds]\n",
        "actual_val = test_37_df['label'].values.tolist()\n",
        "\n",
        "accuracy = accuracy_score(actual_val, predicted_val)\n",
        "print (f\"RESNET-18 accuracy is {accuracy*100:.2f}%\")"
      ],
      "execution_count": 17,
      "outputs": [
        {
          "output_type": "stream",
          "text": [
            "RESNET-18 accuracy is 97.62%\n"
          ],
          "name": "stdout"
        }
      ]
    },
    {
      "cell_type": "code",
      "metadata": {
        "id": "OhaRADgmbfOg"
      },
      "source": [
        ""
      ],
      "execution_count": 17,
      "outputs": []
    }
  ]
}